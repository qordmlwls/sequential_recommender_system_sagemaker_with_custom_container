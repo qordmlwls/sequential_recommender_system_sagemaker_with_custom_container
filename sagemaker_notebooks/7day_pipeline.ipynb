{
 "cells": [
  {
   "cell_type": "code",
   "execution_count": null,
   "id": "ff99c919",
   "metadata": {
    "pycharm": {
     "name": "#%%\n"
    }
   },
   "outputs": [],
   "source": [
    "import boto3\n",
    "import sagemaker\n",
    "\n",
    "region = boto3.Session().region_name\n",
    "sagemaker_session = sagemaker.session.Session()\n",
    "account = sagemaker_session.boto_session.client('sts').get_caller_identity()[\"Account\"]\n",
    "role = sagemaker.get_execution_role()"
   ]
  },
  {
   "cell_type": "code",
   "execution_count": null,
   "id": "4c68f2d8",
   "metadata": {
    "pycharm": {
     "name": "#%%\n"
    }
   },
   "outputs": [],
   "source": [
    "sagemaker_session"
   ]
  },
  {
   "cell_type": "code",
   "execution_count": null,
   "id": "e0c32b5a",
   "metadata": {
    "pycharm": {
     "name": "#%%\n"
    }
   },
   "outputs": [],
   "source": [
    "role"
   ]
  },
  {
   "cell_type": "code",
   "execution_count": null,
   "id": "e27d7d76",
   "metadata": {
    "pycharm": {
     "name": "#%%\n"
    }
   },
   "outputs": [],
   "source": [
    "account  "
   ]
  },
  {
   "cell_type": "markdown",
   "id": "497f8822",
   "metadata": {
    "pycharm": {
     "name": "#%% md\n"
    }
   },
   "source": [
    "## Train hyperparameter"
   ]
  },
  {
   "cell_type": "code",
   "execution_count": null,
   "id": "a632f48c",
   "metadata": {
    "pycharm": {
     "name": "#%%\n"
    }
   },
   "outputs": [],
   "source": [
    "n_epochs = 20 "
   ]
  },
  {
   "cell_type": "markdown",
   "id": "208ab7f2",
   "metadata": {
    "pycharm": {
     "name": "#%% md\n"
    }
   },
   "source": [
    "## Preprocess hyperpatameter"
   ]
  },
  {
   "cell_type": "code",
   "execution_count": null,
   "id": "f5add52e",
   "metadata": {
    "pycharm": {
     "name": "#%%\n"
    }
   },
   "outputs": [],
   "source": [
    "month_len = 2\n",
    "test_data_num =0"
   ]
  },
  {
   "cell_type": "markdown",
   "id": "cf8497df",
   "metadata": {
    "pycharm": {
     "name": "#%% md\n"
    }
   },
   "source": [
    "## Pipeline Embedd Parameter"
   ]
  },
  {
   "cell_type": "code",
   "execution_count": null,
   "id": "315af368",
   "metadata": {
    "pycharm": {
     "name": "#%%\n"
    }
   },
   "outputs": [],
   "source": [
    "from sagemaker.workflow.parameters import (\n",
    "    ParameterInteger,\n",
    "    ParameterString,\n",
    ")\n",
    "# s3 고정 경로: hash_key, text_embedding_model, model.tar.gz @TODO: 하루에 한번씩 model.tar.gz는 버저닝을 해야할듯?\n",
    "\n",
    "embedding_instance_count = ParameterInteger(\n",
    "    name=\"EmbeddingInstanceCount\",\n",
    "    default_value=1\n",
    ")\n",
    "embedding_instance_type = ParameterString(\n",
    "    name=\"EmbeddingInstanceType\",\n",
    "    default_value=\"ml.p3.8xlarge\"\n",
    ")\n",
    "embedding_instance_volume = ParameterInteger(\n",
    "    name=\"EmbeddingInstanceVolume\",\n",
    "    default_value=100\n",
    ")\n",
    "embedding_image_uri = ParameterString(\n",
    "    name=\"EmbeddingImage\",\n",
    "    default_value=\"{}.dkr.ecr.{}.amazonaws.com/sagemaker-test:embedding-step\".format(account, region)\n",
    ")\n",
    "text_model_uri = ParameterString(\n",
    "    name=\"TextModel\",\n",
    "    default_value=\"s3://chatie-ml-sagemaker/text_embedding_model/text_embedding_model.tar.gz\"\n",
    ")\n",
    "trained_model_zip = ParameterString(\n",
    "    name=\"TrainedModel\",\n",
    "    default_value=\"s3://chatie-ml-sagemaker/model/model.tar.gz\"\n",
    ")\n",
    "hash_keys = ParameterString(\n",
    "    name=\"HashKeys\",\n",
    "    default_value=\"s3://sagemaker-ap-northeast-2-095239156209/sagemaker-test-2022-11-04-06-42-23-649/output/output_hash/hash_keys.json\"\n",
    ")"
   ]
  },
  {
   "cell_type": "markdown",
   "id": "b87a4386",
   "metadata": {
    "pycharm": {
     "name": "#%% md\n"
    }
   },
   "source": [
    "## Pipeline Preprocess Parameter"
   ]
  },
  {
   "cell_type": "code",
   "execution_count": null,
   "id": "115aa9f3",
   "metadata": {
    "pycharm": {
     "name": "#%%\n"
    }
   },
   "outputs": [],
   "source": [
    "from sagemaker.workflow.parameters import (\n",
    "    ParameterInteger,\n",
    "    ParameterString,\n",
    ")\n",
    "\n",
    "preprocessing_image_uri = ParameterString(\n",
    "    name=\"PreprocessingImage\",\n",
    "    default_value=\"{}.dkr.ecr.{}.amazonaws.com/sagemaker-test:preprocessing-step\".format(account, region)\n",
    ")\n",
    "preprocessing_instance_count = ParameterInteger(\n",
    "    name=\"PreprocessingInstanceCount\",\n",
    "    default_value=1\n",
    ")\n",
    "preprocessing_instance_type = ParameterString(\n",
    "    name=\"PreprocessingInstanceType\",\n",
    "    default_value=\"ml.m5.12xlarge\"\n",
    ")\n",
    "preprocessing_instance_volume = ParameterInteger(\n",
    "    name=\"PreprocessingInstanceVolume\",\n",
    "    default_value=100\n",
    ")\n",
    "# month_len = ParameterInteger(\n",
    "#     name=\"MonthLength\",\n",
    "#     default_value=2\n",
    "# )\n",
    "# for test, if you want to test pipeline, set 100000\n",
    "# test_data_num = ParameterInteger(\n",
    "#     name=\"TestDataNumber\",\n",
    "#     default_value=0\n",
    "# )"
   ]
  },
  {
   "cell_type": "markdown",
   "id": "5ef63512",
   "metadata": {
    "pycharm": {
     "name": "#%% md\n"
    }
   },
   "source": [
    "## Pipeline Train Parameter"
   ]
  },
  {
   "cell_type": "code",
   "execution_count": null,
   "id": "95180762",
   "metadata": {
    "pycharm": {
     "name": "#%%\n"
    }
   },
   "outputs": [],
   "source": [
    "train_image_uri = ParameterString(\n",
    "    name=\"TrainImage\",\n",
    "    default_value=\"{}.dkr.ecr.{}.amazonaws.com/sagemaker-test:preprocessing-step\".format(account, region)\n",
    ")\n",
    "train_instance_count = ParameterInteger(\n",
    "    name=\"TrainInstanceCount\",\n",
    "    default_value=1\n",
    ")\n",
    "train_instance_type = ParameterString(\n",
    "    name=\"TrainInstanceType\",\n",
    "    default_value=\"ml.p3.8xlarge\"\n",
    ")\n",
    "train_instance_volume = ParameterInteger(\n",
    "    name=\"TrainInstanceVolume\",\n",
    "    default_value=100\n",
    ")\n",
    "# n_epochs = ParameterInteger(\n",
    "#     name=\"EpochNumber\",\n",
    "#     default_value=20 # set 1 if you want to test pipeline\n",
    "# )"
   ]
  },
  {
   "cell_type": "markdown",
   "id": "e42a344c",
   "metadata": {
    "pycharm": {
     "name": "#%% md\n"
    }
   },
   "source": [
    "### Pipeline Train Code Uri "
   ]
  },
  {
   "cell_type": "code",
   "execution_count": null,
   "id": "923cb625",
   "metadata": {
    "pycharm": {
     "name": "#%%\n"
    }
   },
   "outputs": [],
   "source": [
    "train_code_uri = \"s3://chatie-ml-sagemaker/code/code.tar.gz\""
   ]
  },
  {
   "cell_type": "markdown",
   "id": "88d209a4",
   "metadata": {
    "pycharm": {
     "name": "#%% md\n"
    }
   },
   "source": [
    "## Pipeline Create Model Parameter"
   ]
  },
  {
   "cell_type": "code",
   "execution_count": null,
   "id": "8629406d",
   "metadata": {
    "pycharm": {
     "name": "#%%\n"
    }
   },
   "outputs": [],
   "source": [
    "from sagemaker.workflow.parameters import (\n",
    "    ParameterInteger,\n",
    "    ParameterString,\n",
    ")\n",
    "\n",
    "deploy_model_image_uri = ParameterString(\n",
    "    name=\"DeployImage\",\n",
    "    default_value=\"{}.dkr.ecr.{}.amazonaws.com/sagemaker-test:inference-step\".format(account, region)\n",
    ")\n",
    "# instance_type은 gpu쓸 건지 아닐지 determine하는 용도로만 쓰임(출처: sagemaker python SDK)\n",
    "endpoint_instance_type = ParameterString(\n",
    "    name=\"DeployInstanceType\",\n",
    "    default_value=\"ml.g4dn.8xlarge\"\n",
    ")\n",
    "# deploy_code_uri은 어쩔 수 없이 하드코딩해야됨(process step code는 절대 경로만 허용)\n",
    "deploy_code_dir = ParameterString(\n",
    "    name=\"DeployCode\",\n",
    "    default_value=\"s3://chatie-ml-sagemaker/deploy_code/\"\n",
    ")\n"
   ]
  },
  {
   "cell_type": "markdown",
   "id": "6cb84e6b",
   "metadata": {
    "pycharm": {
     "name": "#%% md\n"
    }
   },
   "source": [
    "## Pipeline Deploy Parameter"
   ]
  },
  {
   "cell_type": "code",
   "execution_count": null,
   "id": "b4a06ad6",
   "metadata": {
    "pycharm": {
     "name": "#%%\n"
    }
   },
   "outputs": [],
   "source": [
    "from sagemaker.workflow.parameters import (\n",
    "    ParameterInteger,\n",
    "    ParameterString,\n",
    ")\n",
    "\n",
    "deploy_process_instance_count = ParameterInteger(\n",
    "    name=\"DeployProcessInstanceCount\",\n",
    "    default_value=1\n",
    ")\n",
    "deploy_process_instance_type = ParameterString(\n",
    "    name=\"DeployProcessInstanceType\",\n",
    "    default_value=\"ml.m5.xlarge\"\n",
    ")\n",
    "endpoint_instance_count = ParameterInteger(\n",
    "    name=\"DeployInstanceCount\",\n",
    "    default_value=2\n",
    ")\n"
   ]
  },
  {
   "cell_type": "markdown",
   "id": "627a28d9",
   "metadata": {
    "pycharm": {
     "name": "#%% md\n"
    }
   },
   "source": [
    "### Pipeline Deploy Code Uri"
   ]
  },
  {
   "cell_type": "code",
   "execution_count": null,
   "id": "a4c0c03d",
   "metadata": {
    "pycharm": {
     "name": "#%%\n"
    }
   },
   "outputs": [],
   "source": [
    "# deploy_code_dir에 따라 바꿔야됨\n",
    "deploy_code_uri = \"s3://chatie-ml-sagemaker/deploy_code/deploy_model.py\""
   ]
  },
  {
   "cell_type": "markdown",
   "id": "31ba83da",
   "metadata": {
    "pycharm": {
     "name": "#%% md\n"
    }
   },
   "source": [
    "## Embedding Step"
   ]
  },
  {
   "cell_type": "code",
   "execution_count": null,
   "id": "86cdb8a8",
   "metadata": {
    "pycharm": {
     "name": "#%%\n"
    }
   },
   "outputs": [],
   "source": [
    "from sagemaker.processing import Processor\n",
    "from sagemaker.processing import ProcessingInput, ProcessingOutput\n",
    "\n",
    "processor = Processor(\n",
    "    image_uri=embedding_image_uri,\n",
    "    role=role,\n",
    "    instance_count=embedding_instance_count,\n",
    "    instance_type=embedding_instance_type,\n",
    "    volume_size_in_gb=embedding_instance_volume\n",
    ")"
   ]
  },
  {
   "cell_type": "code",
   "execution_count": null,
   "id": "f0beb6c2",
   "metadata": {
    "pycharm": {
     "name": "#%%\n"
    }
   },
   "outputs": [],
   "source": [
    "from sagemaker.processing import ProcessingInput, ProcessingOutput\n",
    "from sagemaker.workflow.steps import ProcessingStep\n",
    "\n",
    "step_embedd = ProcessingStep(\n",
    "    name=\"Embedd-Step\",\n",
    "    processor=processor,\n",
    "    inputs=[ProcessingInput(source=trained_model_zip, destination=\"/opt/ml/processing/input_model\"),\n",
    "           ProcessingInput(source=text_model_uri, destination=\"/opt/ml/processing/text_embedding_model\"),\n",
    "            ProcessingInput(source=hash_keys, destination=\"/opt/ml/processing/whole_embedding\")\n",
    "           ],\n",
    "    outputs=[\n",
    "        ProcessingOutput(output_name=\"output_hash\", source=\"/opt/ml/processing/output_hash\"),\n",
    "        ProcessingOutput(output_name=\"whole_embedding\", source=\"/opt/ml/processing/output_embedding\"),\n",
    "        ProcessingOutput(output_name=\"sim_dic\", source=\"/opt/ml/processing/output_similarity\"),\n",
    "        # destination 지정하면 안에 따로 폴더 만드는 과정 없이 파일만 저장됨\n",
    "        ProcessingOutput(output_name=\"deploy_code\", source=\"/opt/ml/processing/output_deploy_code\", destination=deploy_code_dir),\n",
    "        # 학습 돌리는 날은 해당 output 필요 x\n",
    "        ProcessingOutput(output_name=\"model\", source=\"/opt/ml/processing/output_model\")\n",
    "        ],\n",
    ")"
   ]
  },
  {
   "cell_type": "markdown",
   "id": "2ae1523d",
   "metadata": {
    "pycharm": {
     "name": "#%% md\n"
    }
   },
   "source": [
    "## Preprocessing Step"
   ]
  },
  {
   "cell_type": "code",
   "execution_count": null,
   "id": "d8c23736",
   "metadata": {
    "pycharm": {
     "name": "#%%\n"
    }
   },
   "outputs": [],
   "source": [
    "from sagemaker.processing import Processor\n",
    "from sagemaker.processing import ProcessingInput, ProcessingOutput\n",
    "\n",
    "processor = Processor(\n",
    "    image_uri=preprocessing_image_uri,\n",
    "    role=role,\n",
    "    instance_count=preprocessing_instance_count,\n",
    "    instance_type=preprocessing_instance_type,\n",
    ")"
   ]
  },
  {
   "cell_type": "code",
   "execution_count": null,
   "id": "c74b8cff",
   "metadata": {
    "pycharm": {
     "name": "#%%\n"
    }
   },
   "outputs": [],
   "source": [
    "from sagemaker.processing import ProcessingInput, ProcessingOutput\n",
    "from sagemaker.workflow.steps import ProcessingStep\n",
    "from sagemaker.workflow.functions import Join\n",
    "\n",
    "step_preprocess = ProcessingStep(\n",
    "    name=\"Preprocess-Step\",\n",
    "    processor=processor,\n",
    "    inputs=[\n",
    "            ProcessingInput(source=Join(on=\"\", \n",
    "                                        values=[step_embedd.properties.ProcessingOutputConfig.Outputs['whole_embedding'].S3Output.S3Uri,'/whole_embedding.pickle']), \n",
    "                                        destination=\"/opt/ml/processing/whole_embedding\")\n",
    "    ],\n",
    "    outputs=[\n",
    "        ProcessingOutput(output_name=\"interaction_data\", source=\"/opt/ml/processing/interaction_data\"),\n",
    "        ProcessingOutput(output_name=\"encoding_data\", source=\"/opt/ml/processing/encoding_data\"),\n",
    "        ProcessingOutput(output_name=\"embedding\", source=\"/opt/ml/processing/embedding\"),\n",
    "        ProcessingOutput(output_name=\"code\", source=\"/opt/ml/processing/code\", destination=train_code_uri)\n",
    "    ], \n",
    "    job_arguments=[\"--month_len\", f\"{month_len}\"],\n",
    "    depends_on=[]\n",
    ")"
   ]
  },
  {
   "cell_type": "markdown",
   "id": "a02405ac",
   "metadata": {
    "pycharm": {
     "name": "#%% md\n"
    }
   },
   "source": [
    "## Train Step"
   ]
  },
  {
   "cell_type": "code",
   "execution_count": null,
   "id": "ed16382f",
   "metadata": {
    "pycharm": {
     "name": "#%%\n"
    }
   },
   "outputs": [],
   "source": [
    "from sagemaker.huggingface import HuggingFace\n",
    "from sagemaker.workflow.functions import Join\n",
    "\n",
    "estimator = HuggingFace(\n",
    "    py_version='py38',\n",
    "    image_uri=train_image_uri,\n",
    "    role=role,\n",
    "    instance_count=train_instance_count,\n",
    "    instance_type=train_instance_type,\n",
    "    volume_size=train_instance_volume,\n",
    "    input_mode=\"Pipe\",\n",
    "    source_dir=train_code_uri,\n",
    "    entry_point='train.py',\n",
    "    hyperparameters={\n",
    "        'n_epochs': n_epochs\n",
    "        }\n",
    "    )"
   ]
  },
  {
   "cell_type": "code",
   "execution_count": null,
   "id": "6b131ca4",
   "metadata": {
    "pycharm": {
     "name": "#%%\n"
    }
   },
   "outputs": [],
   "source": [
    "from sagemaker.inputs import TrainingInput\n",
    "from sagemaker.workflow.steps import TrainingStep\n",
    "\n",
    "\n",
    "step_train = TrainingStep(\n",
    "    name=\"Train-Step\",\n",
    "    estimator=estimator,\n",
    "    inputs={\n",
    "        # preprocess-step output\n",
    "        \"interaction_data\": TrainingInput(\n",
    "            s3_data=step_preprocess.properties.ProcessingOutputConfig.Outputs[\n",
    "                \"interaction_data\"\n",
    "            ].S3Output.S3Uri\n",
    "        ),\n",
    "        \"embedding\": TrainingInput(\n",
    "            s3_data=step_preprocess.properties.ProcessingOutputConfig.Outputs[\n",
    "                \"embedding\"\n",
    "            ].S3Output.S3Uri\n",
    "        ),\n",
    "        \"encoding_data\": TrainingInput(\n",
    "            s3_data=step_preprocess.properties.ProcessingOutputConfig.Outputs[\n",
    "                \"encoding_data\"\n",
    "            ].S3Output.S3Uri\n",
    "        ),\n",
    "        # embedd-step output\n",
    "        \"whole_embedding\": TrainingInput(\n",
    "            s3_data=step_embedd.properties.ProcessingOutputConfig.Outputs[\n",
    "                \"whole_embedding\"\n",
    "            ].S3Output.S3Uri\n",
    "        ),\n",
    "        \"sim_dic\": TrainingInput(\n",
    "            s3_data=step_embedd.properties.ProcessingOutputConfig.Outputs[\n",
    "                \"sim_dic\"\n",
    "            ].S3Output.S3Uri\n",
    "        ),\n",
    "    },\n",
    "    depends_on=[step_embedd, step_preprocess]\n",
    ")"
   ]
  },
  {
   "cell_type": "markdown",
   "id": "8d1d861f",
   "metadata": {
    "pycharm": {
     "name": "#%% md\n"
    }
   },
   "source": [
    "## Create Model Step"
   ]
  },
  {
   "cell_type": "code",
   "execution_count": null,
   "id": "23b9cc50",
   "metadata": {
    "pycharm": {
     "name": "#%%\n"
    }
   },
   "outputs": [],
   "source": [
    "from sagemaker.huggingface.model import HuggingFaceModel\n",
    "from sagemaker.workflow.functions import Join\n",
    "\n",
    "model = HuggingFaceModel(\n",
    "    image_uri=deploy_model_image_uri,\n",
    "    role=role,\n",
    "    # 7일 배치에서는 estimator output\n",
    "    model_data=step_train.properties.ModelArtifacts.S3ModelArtifacts,\n",
    "    pytorch_version=\"1.12.1\",\n",
    ")"
   ]
  },
  {
   "cell_type": "code",
   "execution_count": null,
   "id": "d7c5f8e1",
   "metadata": {
    "pycharm": {
     "name": "#%%\n"
    }
   },
   "outputs": [],
   "source": [
    "from sagemaker.inputs import CreateModelInput\n",
    "from sagemaker.workflow.steps import CreateModelStep\n",
    "\n",
    "\n",
    "inputs = CreateModelInput(\n",
    "    # 여기서 instance_type은 gpu쓸 건지 아닐지 determine하는 용도로만 쓰임(출처: sagemaker python SDK)\n",
    "    instance_type=endpoint_instance_type,\n",
    ")\n",
    "step_create_model = CreateModelStep(\n",
    "    name=\"Recommender-Model\",\n",
    "    model=model,\n",
    "    inputs=inputs,\n",
    "    depends_on=[step_train]\n",
    ")"
   ]
  },
  {
   "cell_type": "markdown",
   "id": "82c33b49",
   "metadata": {
    "pycharm": {
     "name": "#%% md\n"
    }
   },
   "source": [
    "## Deploy Step"
   ]
  },
  {
   "cell_type": "code",
   "execution_count": null,
   "id": "d5cc6c11",
   "metadata": {
    "pycharm": {
     "name": "#%%\n"
    }
   },
   "outputs": [],
   "source": [
    "from sagemaker.sklearn.processing import SKLearnProcessor\n",
    "from sagemaker.workflow.steps import ProcessingStep\n",
    "\n",
    "deploy_model_processor = SKLearnProcessor(\n",
    "    framework_version='0.23-1',\n",
    "    role=role,\n",
    "    instance_type=deploy_process_instance_type, \n",
    "    instance_count=deploy_process_instance_count,\n",
    "    base_job_name='recommender-deploy-model',\n",
    "    )"
   ]
  },
  {
   "cell_type": "code",
   "execution_count": null,
   "id": "5db1160b",
   "metadata": {
    "pycharm": {
     "name": "#%%\n"
    }
   },
   "outputs": [],
   "source": [
    "step_deploy = ProcessingStep(\n",
    "    name='Recommender-Endpoint',\n",
    "    processor=deploy_model_processor,\n",
    "    job_arguments=[\n",
    "        \"--model_name\", step_create_model.properties.ModelName, \n",
    "        \"--region\", region,\n",
    "        \"--endpoint_instance_type\", endpoint_instance_type,\n",
    "        \"--endpoint_name\", \"Recommender-Endpoint\"\n",
    "    ],\n",
    "    code=deploy_code_uri,\n",
    "    depends_on=[step_create_model]\n",
    ")"
   ]
  },
  {
   "cell_type": "markdown",
   "id": "20b5a82b",
   "metadata": {
    "pycharm": {
     "name": "#%% md\n"
    }
   },
   "source": [
    "## Pipeline"
   ]
  },
  {
   "cell_type": "code",
   "execution_count": null,
   "id": "e7b1042d",
   "metadata": {
    "pycharm": {
     "name": "#%%\n"
    }
   },
   "outputs": [],
   "source": [
    "from sagemaker.workflow.pipeline import Pipeline\n",
    "\n",
    "pipeline_name = \"recommender-7day-pipeline\"\n",
    "pipeline = Pipeline(\n",
    "    name=pipeline_name,\n",
    "    parameters=[\n",
    "        # embedd\n",
    "        embedding_instance_count,\n",
    "        embedding_instance_type,\n",
    "        embedding_instance_volume,\n",
    "        embedding_image_uri,\n",
    "        text_model_uri,\n",
    "        trained_model_zip,\n",
    "        hash_keys,\n",
    "        \n",
    "        # preprocess\n",
    "        preprocessing_instance_count,\n",
    "        preprocessing_instance_type,\n",
    "        preprocessing_instance_volume,\n",
    "        preprocessing_image_uri,\n",
    "        month_len,\n",
    "        test_data_num,\n",
    "        \n",
    "        # train \n",
    "        train_instance_count,\n",
    "        train_instance_type,\n",
    "        train_instance_volume,\n",
    "        train_image_uri,\n",
    "        n_epochs,\n",
    "        \n",
    "        # create_model\n",
    "        deploy_model_image_uri,\n",
    "        endpoint_instance_type,\n",
    "        deploy_code_dir,\n",
    "        \n",
    "        # deploy model \n",
    "        deploy_process_instance_count,\n",
    "        deploy_process_instance_type,\n",
    "        endpoint_instance_count\n",
    "    ],\n",
    "    steps=[step_embedd, step_preprocess, step_train, step_create_model, step_deploy]\n",
    ")\n",
    "        "
   ]
  },
  {
   "cell_type": "code",
   "execution_count": null,
   "id": "9907b968",
   "metadata": {
    "pycharm": {
     "name": "#%%\n"
    }
   },
   "outputs": [],
   "source": [
    "import json\n",
    "\n",
    "definition = json.loads(pipeline.definition())\n",
    "definition"
   ]
  },
  {
   "cell_type": "code",
   "execution_count": null,
   "id": "c32114d2",
   "metadata": {
    "pycharm": {
     "name": "#%%\n"
    }
   },
   "outputs": [],
   "source": [
    "pipeline.upsert(role_arn=role)"
   ]
  },
  {
   "cell_type": "code",
   "execution_count": null,
   "id": "07fe75a2",
   "metadata": {
    "pycharm": {
     "name": "#%%\n"
    }
   },
   "outputs": [],
   "source": [
    "execution = pipeline.start()"
   ]
  },
  {
   "cell_type": "code",
   "execution_count": null,
   "id": "d833f330",
   "metadata": {
    "pycharm": {
     "name": "#%%\n"
    }
   },
   "outputs": [],
   "source": [
    "execution.describe()"
   ]
  }
 ],
 "metadata": {
  "kernelspec": {
   "display_name": "conda_amazonei_mxnet_p36",
   "language": "python",
   "name": "conda_amazonei_mxnet_p36"
  },
  "language_info": {
   "codemirror_mode": {
    "name": "ipython",
    "version": 3
   },
   "file_extension": ".py",
   "mimetype": "text/x-python",
   "name": "python",
   "nbconvert_exporter": "python",
   "pygments_lexer": "ipython3",
   "version": "3.6.13"
  }
 },
 "nbformat": 4,
 "nbformat_minor": 5
}