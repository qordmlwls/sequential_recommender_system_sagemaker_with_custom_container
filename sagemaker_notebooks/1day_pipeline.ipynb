{
 "cells": [
  {
   "cell_type": "code",
   "execution_count": null,
   "id": "8a1a9aa1",
   "metadata": {
    "pycharm": {
     "name": "#%%\n"
    }
   },
   "outputs": [],
   "source": [
    "import boto3\n",
    "import sagemaker\n",
    "\n",
    "region = boto3.Session().region_name\n",
    "sagemaker_session = sagemaker.session.Session()\n",
    "account = sagemaker_session.boto_session.client('sts').get_caller_identity()[\"Account\"]\n",
    "role = sagemaker.get_execution_role()"
   ]
  },
  {
   "cell_type": "code",
   "execution_count": null,
   "id": "50375a01",
   "metadata": {
    "pycharm": {
     "name": "#%%\n"
    }
   },
   "outputs": [],
   "source": [
    "sagemaker_session"
   ]
  },
  {
   "cell_type": "code",
   "execution_count": null,
   "id": "a53c3e57",
   "metadata": {
    "pycharm": {
     "name": "#%%\n"
    }
   },
   "outputs": [],
   "source": [
    "role"
   ]
  },
  {
   "cell_type": "code",
   "execution_count": null,
   "id": "36e68893",
   "metadata": {
    "pycharm": {
     "name": "#%%\n"
    }
   },
   "outputs": [],
   "source": [
    "account"
   ]
  },
  {
   "cell_type": "markdown",
   "id": "127e2b42",
   "metadata": {
    "pycharm": {
     "name": "#%% md\n"
    }
   },
   "source": [
    "## Pipeline Embedd Parameter"
   ]
  },
  {
   "cell_type": "code",
   "execution_count": null,
   "id": "0fee92b8",
   "metadata": {
    "pycharm": {
     "name": "#%%\n"
    }
   },
   "outputs": [],
   "source": [
    "from sagemaker.workflow.parameters import (\n",
    "    ParameterInteger,\n",
    "    ParameterString,\n",
    ")\n",
    "# s3 고정 경로: hash_key, text_embedding_model, model.tar.gz @TODO: 하루에 한번씩 model.tar.gz는 버저닝을 해야할듯?\n",
    "\n",
    "embedding_instance_count = ParameterInteger(\n",
    "    name=\"EmbeddingInstanceCount\",\n",
    "    default_value=1\n",
    ")\n",
    "embedding_instance_type = ParameterString(\n",
    "    name=\"EmbeddingInstanceType\",\n",
    "    default_value=\"ml.p3.8xlarge\"\n",
    ")\n",
    "embedding_instance_volume = ParameterInteger(\n",
    "    name=\"EmbeddingInstanceVolume\",\n",
    "    default_value=100\n",
    ")\n",
    "embedding_image_uri = ParameterString(\n",
    "    name=\"EmbeddingImage\",\n",
    "    default_value=\"{}.dkr.ecr.{}.amazonaws.com/sagemaker-test:embedding-step\".format(account, region)\n",
    ")\n",
    "text_model_uri = ParameterString(\n",
    "    name=\"TextModel\",\n",
    "    default_value=\"s3://chatie-ml-sagemaker/text_embedding_model/text_embedding_model.tar.gz\"\n",
    ")\n",
    "trained_model_zip = ParameterString(\n",
    "    name=\"TrainedModel\",\n",
    "    default_value=\"s3://sagemaker-ap-northeast-2-095239156209/sagemaker-test-2022-11-04-06-42-23-649/output/model/model.tar.gz\"\n",
    ")\n",
    "hash_keys = ParameterString(\n",
    "    name=\"HashKeys\",\n",
    "    default_value=\"s3://sagemaker-ap-northeast-2-095239156209/sagemaker-test-2022-11-04-06-42-23-649/output/output_hash/hash_keys.json\"\n",
    ")"
   ]
  },
  {
   "cell_type": "markdown",
   "id": "935b7602",
   "metadata": {
    "pycharm": {
     "name": "#%% md\n"
    }
   },
   "source": [
    "## Pipeline Create Model Parameter"
   ]
  },
  {
   "cell_type": "code",
   "execution_count": null,
   "id": "ed2a2728",
   "metadata": {
    "pycharm": {
     "name": "#%%\n"
    }
   },
   "outputs": [],
   "source": [
    "from sagemaker.workflow.parameters import (\n",
    "    ParameterInteger,\n",
    "    ParameterString,\n",
    ")\n",
    "\n",
    "deploy_model_image_uri = ParameterString(\n",
    "    name=\"DeployImage\",\n",
    "    default_value=\"{}.dkr.ecr.{}.amazonaws.com/sagemaker-test:inference-step\".format(account, region)\n",
    ")\n",
    "# instance_type은 gpu쓸 건지 아닐지 determine하는 용도로만 쓰임(출처: sagemaker python SDK)\n",
    "endpoint_instance_type = ParameterString(\n",
    "    name=\"DeployInstanceType\",\n",
    "    default_value=\"ml.g4dn.8xlarge\"\n",
    ")\n",
    "# deploy_code_uri은 어쩔 수 없이 하드코딩해야됨(process step code는 절대 경로만 허용)\n",
    "deploy_code_dir = ParameterString(\n",
    "    name=\"DeployCode\",\n",
    "    default_value=\"s3://chatie-ml-sagemaker/deploy_code/\"\n",
    ")\n"
   ]
  },
  {
   "cell_type": "markdown",
   "id": "09e8f3e1",
   "metadata": {
    "pycharm": {
     "name": "#%% md\n"
    }
   },
   "source": [
    "## Pipeline Deploy Parameter"
   ]
  },
  {
   "cell_type": "code",
   "execution_count": null,
   "id": "2313b83f",
   "metadata": {
    "pycharm": {
     "name": "#%%\n"
    }
   },
   "outputs": [],
   "source": [
    "from sagemaker.workflow.parameters import (\n",
    "    ParameterInteger,\n",
    "    ParameterString,\n",
    ")\n",
    "\n",
    "deploy_process_instance_count = ParameterInteger(\n",
    "    name=\"DeployProcessInstanceCount\",\n",
    "    default_value=1\n",
    ")\n",
    "deploy_process_instance_type = ParameterString(\n",
    "    name=\"DeployProcessInstanceType\",\n",
    "    default_value=\"ml.m5.xlarge\"\n",
    ")\n",
    "endpoint_instance_count = ParameterInteger(\n",
    "    name=\"DeployInstanceCount\",\n",
    "    default_value=2\n",
    ")\n"
   ]
  },
  {
   "cell_type": "markdown",
   "id": "07c2edbd",
   "metadata": {
    "pycharm": {
     "name": "#%% md\n"
    }
   },
   "source": [
    "### Pipeline Deploy Code Uri"
   ]
  },
  {
   "cell_type": "code",
   "execution_count": null,
   "id": "73458330",
   "metadata": {
    "pycharm": {
     "name": "#%%\n"
    }
   },
   "outputs": [],
   "source": [
    "# deploy_code_dir에 따라 바꿔야됨\n",
    "deploy_code_uri = \"s3://chatie-ml-sagemaker/deploy_code/deploy_code/deploy_model.py\""
   ]
  },
  {
   "cell_type": "markdown",
   "id": "1e201a76",
   "metadata": {
    "pycharm": {
     "name": "#%% md\n"
    }
   },
   "source": [
    "## Embedding step"
   ]
  },
  {
   "cell_type": "code",
   "execution_count": null,
   "id": "463e0bfc",
   "metadata": {
    "pycharm": {
     "name": "#%%\n"
    }
   },
   "outputs": [],
   "source": [
    "from sagemaker.processing import Processor\n",
    "from sagemaker.processing import ProcessingInput, ProcessingOutput\n",
    "processor = Processor(\n",
    "    image_uri=embedding_image_uri,\n",
    "    role=role,\n",
    "    instance_count=embedding_instance_count,\n",
    "    instance_type=embedding_instance_type,\n",
    "    volume_size_in_gb=embedding_instance_volume\n",
    ")"
   ]
  },
  {
   "cell_type": "code",
   "execution_count": null,
   "id": "9354f4b4",
   "metadata": {
    "pycharm": {
     "name": "#%%\n"
    }
   },
   "outputs": [],
   "source": [
    "from sagemaker.processing import ProcessingInput, ProcessingOutput\n",
    "from sagemaker.workflow.steps import ProcessingStep\n",
    "\n",
    "step_embedd = ProcessingStep(\n",
    "    name=\"Embedd-Step\",\n",
    "    processor=processor,\n",
    "    inputs=[ProcessingInput(source=trained_model_zip, destination=\"/opt/ml/processing/input_model\"),\n",
    "           ProcessingInput(source=text_model_uri, destination=\"/opt/ml/processing/text_embedding_model\"),\n",
    "            ProcessingInput(source=hash_keys, destination=\"/opt/ml/processing/whole_embedding\")\n",
    "           ],\n",
    "    outputs=[\n",
    "        ProcessingOutput(output_name=\"output_hash\", source=\"/opt/ml/processing/output_hash\"),\n",
    "        ProcessingOutput(output_name=\"whole_embedding\", source=\"/opt/ml/processing/output_embedding\"),\n",
    "        ProcessingOutput(output_name=\"sim_dic\", source=\"/opt/ml/processing/output_similarity\"),\n",
    "        ProcessingOutput(output_name=\"deploy_code\", source=\"/opt/ml/processing/output_deploy_code\", destination=deploy_code_dir),\n",
    "        # 학습 돌리는 날은 해당 output 필요 x\n",
    "        ProcessingOutput(output_name=\"model\", source=\"/opt/ml/processing/output_model\")\n",
    "        ],\n",
    "    # job_arguments=[\"--split_rate\", 0.2], \n",
    ")"
   ]
  },
  {
   "cell_type": "markdown",
   "id": "84bc07ab",
   "metadata": {
    "pycharm": {
     "name": "#%% md\n"
    }
   },
   "source": [
    "## Create Model step"
   ]
  },
  {
   "cell_type": "code",
   "execution_count": null,
   "id": "7ec7a52b",
   "metadata": {
    "pycharm": {
     "name": "#%%\n"
    }
   },
   "outputs": [],
   "source": [
    "from sagemaker.huggingface.model import HuggingFaceModel\n",
    "\n",
    "model = HuggingFaceModel(\n",
    "    image_uri=deploy_model_image_uri,\n",
    "    role=role,\n",
    "    # 7일 배치에서는 estimator output\n",
    "    model_data=step_embedd.properties.ProcessingOutputConfig.Outputs['model'].S3Output.S3Uri,\n",
    "    pytorch_version=\"1.12.1\",\n",
    ")"
   ]
  },
  {
   "cell_type": "code",
   "execution_count": null,
   "id": "80b0846d",
   "metadata": {
    "pycharm": {
     "name": "#%%\n"
    }
   },
   "outputs": [],
   "source": [
    "from sagemaker.inputs import CreateModelInput\n",
    "from sagemaker.workflow.steps import CreateModelStep\n",
    "\n",
    "\n",
    "inputs = CreateModelInput(\n",
    "    # 여기서 instance_type은 gpu쓸 건지 아닐지 determine하는 용도로만 쓰임(출처: sagemaker python SDK)\n",
    "    instance_type=endpoint_instance_type,\n",
    ")\n",
    "step_create_model = CreateModelStep(\n",
    "    name=\"Recommender-Model\",\n",
    "    model=model,\n",
    "    inputs=inputs,\n",
    ")"
   ]
  },
  {
   "cell_type": "markdown",
   "id": "8d101289",
   "metadata": {
    "pycharm": {
     "name": "#%% md\n"
    }
   },
   "source": [
    "## Deploy step"
   ]
  },
  {
   "cell_type": "code",
   "execution_count": null,
   "id": "48a603ac",
   "metadata": {
    "pycharm": {
     "name": "#%%\n"
    }
   },
   "outputs": [],
   "source": [
    "from sagemaker.sklearn.processing import SKLearnProcessor\n",
    "from sagemaker.workflow.steps import ProcessingStep\n",
    "\n",
    "deploy_model_processor = SKLearnProcessor(\n",
    "    framework_version='0.23-1',\n",
    "    role= role,\n",
    "    instance_type=deploy_process_instance_type, \n",
    "    instance_count=deploy_process_instance_count,\n",
    "    base_job_name='recommender-deploy-model',\n",
    "    )"
   ]
  },
  {
   "cell_type": "code",
   "execution_count": null,
   "id": "85caf1db",
   "metadata": {
    "pycharm": {
     "name": "#%%\n"
    }
   },
   "outputs": [],
   "source": [
    "step_deploy = ProcessingStep(\n",
    "    name='Recommender-Endpoint',\n",
    "    processor=deploy_model_processor,\n",
    "    job_arguments=[\n",
    "        \"--model_name\", step_create_model.properties.ModelName, \n",
    "        \"--region\", region,\n",
    "        \"--endpoint_instance_type\", endpoint_instance_type,\n",
    "        \"--endpoint_name\", \"Recommender-Endpoint\"\n",
    "    ],\n",
    "    code=deploy_code_uri)"
   ]
  },
  {
   "cell_type": "markdown",
   "id": "77a7020b",
   "metadata": {
    "pycharm": {
     "name": "#%% md\n"
    }
   },
   "source": [
    "## Pipeline"
   ]
  },
  {
   "cell_type": "code",
   "execution_count": null,
   "id": "08539883",
   "metadata": {
    "pycharm": {
     "name": "#%%\n"
    }
   },
   "outputs": [],
   "source": [
    "from sagemaker.workflow.pipeline import Pipeline\n",
    "\n",
    "pipeline_name = \"recommender-1day-pipeline\"\n",
    "pipeline = Pipeline(\n",
    "    name=pipeline_name,\n",
    "    parameters=[\n",
    "        # embedd\n",
    "        embedding_instance_count,\n",
    "        embedding_instance_type,\n",
    "        embedding_instance_volume,\n",
    "        embedding_image_uri,\n",
    "        text_model_uri,\n",
    "        trained_model_zip,\n",
    "        hash_keys,\n",
    "        \n",
    "        # create_model\n",
    "        deploy_model_image_uri,\n",
    "        endpoint_instance_type,\n",
    "        deploy_code_dir,\n",
    "        \n",
    "        # deploy model \n",
    "        deploy_process_instance_count,\n",
    "        deploy_process_instance_type,\n",
    "        endpoint_instance_count\n",
    "    ],\n",
    "    steps=[step_embedd, step_create_model, step_deploy]\n",
    ")"
   ]
  },
  {
   "cell_type": "code",
   "execution_count": null,
   "id": "494b1471",
   "metadata": {
    "pycharm": {
     "name": "#%%\n"
    }
   },
   "outputs": [],
   "source": [
    "import json\n",
    "\n",
    "definition = json.loads(pipeline.definition())\n",
    "definition"
   ]
  },
  {
   "cell_type": "code",
   "execution_count": null,
   "id": "5f228d30",
   "metadata": {
    "pycharm": {
     "name": "#%%\n"
    }
   },
   "outputs": [],
   "source": [
    "pipeline.upsert(role_arn=role)\n",
    "execution = pipeline.start()"
   ]
  },
  {
   "cell_type": "code",
   "execution_count": null,
   "id": "006c521d",
   "metadata": {
    "pycharm": {
     "name": "#%%\n"
    }
   },
   "outputs": [],
   "source": [
    "execution.describe()"
   ]
  },
  {
   "cell_type": "code",
   "execution_count": null,
   "id": "5f4b91a4",
   "metadata": {
    "pycharm": {
     "name": "#%%\n"
    }
   },
   "outputs": [],
   "source": []
  }
 ],
 "metadata": {
  "kernelspec": {
   "display_name": "conda_amazonei_mxnet_p36",
   "language": "python",
   "name": "conda_amazonei_mxnet_p36"
  },
  "language_info": {
   "codemirror_mode": {
    "name": "ipython",
    "version": 3
   },
   "file_extension": ".py",
   "mimetype": "text/x-python",
   "name": "python",
   "nbconvert_exporter": "python",
   "pygments_lexer": "ipython3",
   "version": "3.6.13"
  }
 },
 "nbformat": 4,
 "nbformat_minor": 5
}