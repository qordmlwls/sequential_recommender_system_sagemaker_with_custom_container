{
 "cells": [
  {
   "cell_type": "code",
   "execution_count": null,
   "id": "cfddc592",
   "metadata": {
    "pycharm": {
     "name": "#%%\n"
    }
   },
   "outputs": [],
   "source": [
    "import boto3\n",
    "# you should be logined in aws-cli \n",
    "client = boto3.client('sagemaker-runtime')"
   ]
  },
  {
   "cell_type": "code",
   "execution_count": null,
   "id": "02659f33",
   "metadata": {
    "pycharm": {
     "name": "#%%\n"
    }
   },
   "outputs": [],
   "source": [
    "# API call example reference: https://boto3.amazonaws.com/v1/documentation/api/latest/reference/services/sagemaker-runtime.html\n",
    "test_body = json.dumps({\"request_type\":\"content\", \"story_id\":\"6240713\"})\n",
    "res = client.invoke_endpoint(EndpointName=\"___Endpoint name here\",\n",
    "                         ContentType='application/json', \n",
    "                         Accept='application/json',\n",
    "                         Body=test_body)\n",
    "res['Body'].read()"
   ]
  }
 ],
 "metadata": {
  "kernelspec": {
   "display_name": "conda_amazonei_mxnet_p36",
   "language": "python",
   "name": "conda_amazonei_mxnet_p36"
  },
  "language_info": {
   "codemirror_mode": {
    "name": "ipython",
    "version": 3
   },
   "file_extension": ".py",
   "mimetype": "text/x-python",
   "name": "python",
   "nbconvert_exporter": "python",
   "pygments_lexer": "ipython3",
   "version": "3.6.13"
  }
 },
 "nbformat": 4,
 "nbformat_minor": 5
}